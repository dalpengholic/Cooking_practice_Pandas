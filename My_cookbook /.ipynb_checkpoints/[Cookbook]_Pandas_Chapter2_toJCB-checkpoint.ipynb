{
 "cells": [
  {
   "cell_type": "code",
   "execution_count": 1,
   "metadata": {},
   "outputs": [],
   "source": [
    "import pandas as pd"
   ]
  },
  {
   "cell_type": "code",
   "execution_count": 2,
   "metadata": {},
   "outputs": [
    {
     "name": "stderr",
     "output_type": "stream",
     "text": [
      "/Users/dalpengholic/anaconda3/envs/nbastat1/lib/python3.6/site-packages/IPython/core/interactiveshell.py:3049: DtypeWarning: Columns (8) have mixed types. Specify dtype option on import or set low_memory=False.\n",
      "  interactivity=interactivity, compiler=compiler, result=result)\n"
     ]
    }
   ],
   "source": [
    "df_1 = pd.read_csv(\"../data/311-service-requests.csv\")\n",
    "df_2 = pd.read_csv(\"../data/bikes.csv\", sep=\";\", encoding='latin1', index_col='Date')"
   ]
  },
  {
   "cell_type": "code",
   "execution_count": 3,
   "metadata": {},
   "outputs": [
    {
     "data": {
      "text/html": [
       "<div>\n",
       "<style scoped>\n",
       "    .dataframe tbody tr th:only-of-type {\n",
       "        vertical-align: middle;\n",
       "    }\n",
       "\n",
       "    .dataframe tbody tr th {\n",
       "        vertical-align: top;\n",
       "    }\n",
       "\n",
       "    .dataframe thead th {\n",
       "        text-align: right;\n",
       "    }\n",
       "</style>\n",
       "<table border=\"1\" class=\"dataframe\">\n",
       "  <thead>\n",
       "    <tr style=\"text-align: right;\">\n",
       "      <th></th>\n",
       "      <th>Unique Key</th>\n",
       "      <th>Created Date</th>\n",
       "      <th>Closed Date</th>\n",
       "      <th>Agency</th>\n",
       "      <th>Agency Name</th>\n",
       "      <th>Complaint Type</th>\n",
       "      <th>Descriptor</th>\n",
       "      <th>Location Type</th>\n",
       "      <th>Incident Zip</th>\n",
       "      <th>Incident Address</th>\n",
       "      <th>...</th>\n",
       "      <th>Bridge Highway Name</th>\n",
       "      <th>Bridge Highway Direction</th>\n",
       "      <th>Road Ramp</th>\n",
       "      <th>Bridge Highway Segment</th>\n",
       "      <th>Garage Lot Name</th>\n",
       "      <th>Ferry Direction</th>\n",
       "      <th>Ferry Terminal Name</th>\n",
       "      <th>Latitude</th>\n",
       "      <th>Longitude</th>\n",
       "      <th>Location</th>\n",
       "    </tr>\n",
       "  </thead>\n",
       "  <tbody>\n",
       "    <tr>\n",
       "      <th>0</th>\n",
       "      <td>26589651</td>\n",
       "      <td>10/31/2013 02:08:41 AM</td>\n",
       "      <td>NaN</td>\n",
       "      <td>NYPD</td>\n",
       "      <td>New York City Police Department</td>\n",
       "      <td>Noise - Street/Sidewalk</td>\n",
       "      <td>Loud Talking</td>\n",
       "      <td>Street/Sidewalk</td>\n",
       "      <td>11432</td>\n",
       "      <td>90-03 169 STREET</td>\n",
       "      <td>...</td>\n",
       "      <td>NaN</td>\n",
       "      <td>NaN</td>\n",
       "      <td>NaN</td>\n",
       "      <td>NaN</td>\n",
       "      <td>NaN</td>\n",
       "      <td>NaN</td>\n",
       "      <td>NaN</td>\n",
       "      <td>40.708275</td>\n",
       "      <td>-73.791604</td>\n",
       "      <td>(40.70827532593202, -73.79160395779721)</td>\n",
       "    </tr>\n",
       "    <tr>\n",
       "      <th>1</th>\n",
       "      <td>26593698</td>\n",
       "      <td>10/31/2013 02:01:04 AM</td>\n",
       "      <td>NaN</td>\n",
       "      <td>NYPD</td>\n",
       "      <td>New York City Police Department</td>\n",
       "      <td>Illegal Parking</td>\n",
       "      <td>Commercial Overnight Parking</td>\n",
       "      <td>Street/Sidewalk</td>\n",
       "      <td>11378</td>\n",
       "      <td>58 AVENUE</td>\n",
       "      <td>...</td>\n",
       "      <td>NaN</td>\n",
       "      <td>NaN</td>\n",
       "      <td>NaN</td>\n",
       "      <td>NaN</td>\n",
       "      <td>NaN</td>\n",
       "      <td>NaN</td>\n",
       "      <td>NaN</td>\n",
       "      <td>40.721041</td>\n",
       "      <td>-73.909453</td>\n",
       "      <td>(40.721040535628305, -73.90945306791765)</td>\n",
       "    </tr>\n",
       "    <tr>\n",
       "      <th>2</th>\n",
       "      <td>26594139</td>\n",
       "      <td>10/31/2013 02:00:24 AM</td>\n",
       "      <td>10/31/2013 02:40:32 AM</td>\n",
       "      <td>NYPD</td>\n",
       "      <td>New York City Police Department</td>\n",
       "      <td>Noise - Commercial</td>\n",
       "      <td>Loud Music/Party</td>\n",
       "      <td>Club/Bar/Restaurant</td>\n",
       "      <td>10032</td>\n",
       "      <td>4060 BROADWAY</td>\n",
       "      <td>...</td>\n",
       "      <td>NaN</td>\n",
       "      <td>NaN</td>\n",
       "      <td>NaN</td>\n",
       "      <td>NaN</td>\n",
       "      <td>NaN</td>\n",
       "      <td>NaN</td>\n",
       "      <td>NaN</td>\n",
       "      <td>40.843330</td>\n",
       "      <td>-73.939144</td>\n",
       "      <td>(40.84332975466513, -73.93914371913482)</td>\n",
       "    </tr>\n",
       "    <tr>\n",
       "      <th>3</th>\n",
       "      <td>26595721</td>\n",
       "      <td>10/31/2013 01:56:23 AM</td>\n",
       "      <td>10/31/2013 02:21:48 AM</td>\n",
       "      <td>NYPD</td>\n",
       "      <td>New York City Police Department</td>\n",
       "      <td>Noise - Vehicle</td>\n",
       "      <td>Car/Truck Horn</td>\n",
       "      <td>Street/Sidewalk</td>\n",
       "      <td>10023</td>\n",
       "      <td>WEST 72 STREET</td>\n",
       "      <td>...</td>\n",
       "      <td>NaN</td>\n",
       "      <td>NaN</td>\n",
       "      <td>NaN</td>\n",
       "      <td>NaN</td>\n",
       "      <td>NaN</td>\n",
       "      <td>NaN</td>\n",
       "      <td>NaN</td>\n",
       "      <td>40.778009</td>\n",
       "      <td>-73.980213</td>\n",
       "      <td>(40.7780087446372, -73.98021349023975)</td>\n",
       "    </tr>\n",
       "    <tr>\n",
       "      <th>4</th>\n",
       "      <td>26590930</td>\n",
       "      <td>10/31/2013 01:53:44 AM</td>\n",
       "      <td>NaN</td>\n",
       "      <td>DOHMH</td>\n",
       "      <td>Department of Health and Mental Hygiene</td>\n",
       "      <td>Rodent</td>\n",
       "      <td>Condition Attracting Rodents</td>\n",
       "      <td>Vacant Lot</td>\n",
       "      <td>10027</td>\n",
       "      <td>WEST 124 STREET</td>\n",
       "      <td>...</td>\n",
       "      <td>NaN</td>\n",
       "      <td>NaN</td>\n",
       "      <td>NaN</td>\n",
       "      <td>NaN</td>\n",
       "      <td>NaN</td>\n",
       "      <td>NaN</td>\n",
       "      <td>NaN</td>\n",
       "      <td>40.807691</td>\n",
       "      <td>-73.947387</td>\n",
       "      <td>(40.80769092704951, -73.94738703491433)</td>\n",
       "    </tr>\n",
       "  </tbody>\n",
       "</table>\n",
       "<p>5 rows × 52 columns</p>\n",
       "</div>"
      ],
      "text/plain": [
       "   Unique Key            Created Date             Closed Date Agency  \\\n",
       "0    26589651  10/31/2013 02:08:41 AM                     NaN   NYPD   \n",
       "1    26593698  10/31/2013 02:01:04 AM                     NaN   NYPD   \n",
       "2    26594139  10/31/2013 02:00:24 AM  10/31/2013 02:40:32 AM   NYPD   \n",
       "3    26595721  10/31/2013 01:56:23 AM  10/31/2013 02:21:48 AM   NYPD   \n",
       "4    26590930  10/31/2013 01:53:44 AM                     NaN  DOHMH   \n",
       "\n",
       "                               Agency Name           Complaint Type  \\\n",
       "0          New York City Police Department  Noise - Street/Sidewalk   \n",
       "1          New York City Police Department          Illegal Parking   \n",
       "2          New York City Police Department       Noise - Commercial   \n",
       "3          New York City Police Department          Noise - Vehicle   \n",
       "4  Department of Health and Mental Hygiene                   Rodent   \n",
       "\n",
       "                     Descriptor        Location Type Incident Zip  \\\n",
       "0                  Loud Talking      Street/Sidewalk        11432   \n",
       "1  Commercial Overnight Parking      Street/Sidewalk        11378   \n",
       "2              Loud Music/Party  Club/Bar/Restaurant        10032   \n",
       "3                Car/Truck Horn      Street/Sidewalk        10023   \n",
       "4  Condition Attracting Rodents           Vacant Lot        10027   \n",
       "\n",
       "   Incident Address  ... Bridge Highway Name Bridge Highway Direction  \\\n",
       "0  90-03 169 STREET  ...                 NaN                      NaN   \n",
       "1         58 AVENUE  ...                 NaN                      NaN   \n",
       "2     4060 BROADWAY  ...                 NaN                      NaN   \n",
       "3    WEST 72 STREET  ...                 NaN                      NaN   \n",
       "4   WEST 124 STREET  ...                 NaN                      NaN   \n",
       "\n",
       "  Road Ramp Bridge Highway Segment Garage Lot Name Ferry Direction  \\\n",
       "0       NaN                    NaN             NaN             NaN   \n",
       "1       NaN                    NaN             NaN             NaN   \n",
       "2       NaN                    NaN             NaN             NaN   \n",
       "3       NaN                    NaN             NaN             NaN   \n",
       "4       NaN                    NaN             NaN             NaN   \n",
       "\n",
       "  Ferry Terminal Name   Latitude  Longitude  \\\n",
       "0                 NaN  40.708275 -73.791604   \n",
       "1                 NaN  40.721041 -73.909453   \n",
       "2                 NaN  40.843330 -73.939144   \n",
       "3                 NaN  40.778009 -73.980213   \n",
       "4                 NaN  40.807691 -73.947387   \n",
       "\n",
       "                                   Location  \n",
       "0   (40.70827532593202, -73.79160395779721)  \n",
       "1  (40.721040535628305, -73.90945306791765)  \n",
       "2   (40.84332975466513, -73.93914371913482)  \n",
       "3    (40.7780087446372, -73.98021349023975)  \n",
       "4   (40.80769092704951, -73.94738703491433)  \n",
       "\n",
       "[5 rows x 52 columns]"
      ]
     },
     "execution_count": 3,
     "metadata": {},
     "output_type": "execute_result"
    }
   ],
   "source": [
    "df_1.head()"
   ]
  },
  {
   "cell_type": "markdown",
   "metadata": {},
   "source": [
    "# 0. Check how many empty cells and Nan values in a dataframe"
   ]
  },
  {
   "cell_type": "markdown",
   "metadata": {},
   "source": [
    "It is important to know how many nan values in a dataframe because when we need a matrix computation, computers cannot handle nan values or empty cells. "
   ]
  },
  {
   "cell_type": "markdown",
   "metadata": {},
   "source": [
    "When you use `df.isnull()` or `df.isna()` methods, it returns a boolean dataframe that if there is a emtpy cell or nan, it returns True, otherwise, False.\n",
    "\n",
    "And If you put `.values.any()`, it takes all values in the dataframe, and check there is an any empty value.\n",
    "\n",
    "`df.isnull().sum()` returns how many missing values in each column.\n",
    "\n",
    "if you divide `df.isnull().sum()` by `df.shape[0]`, which is the number of rows in a dataframe, you can get the frequency of nan values in each column."
   ]
  },
  {
   "cell_type": "code",
   "execution_count": 4,
   "metadata": {},
   "outputs": [
    {
     "data": {
      "text/plain": [
       "Unique Key                        0.000000\n",
       "Created Date                      0.000000\n",
       "Closed Date                       0.457364\n",
       "Agency                            0.000000\n",
       "Agency Name                       0.000000\n",
       "Complaint Type                    0.000000\n",
       "Descriptor                        0.004106\n",
       "Location Type                     0.288532\n",
       "Incident Zip                      0.110400\n",
       "Incident Address                  0.239743\n",
       "Street Name                       0.239824\n",
       "Cross Street 1                    0.237159\n",
       "Cross Street 2                    0.243668\n",
       "Intersection Street 1             0.825658\n",
       "Intersection Street 2             0.825640\n",
       "Address Type                      0.079428\n",
       "City                              0.109977\n",
       "Landmark                          0.999145\n",
       "Facility Type                     0.827999\n",
       "Status                            0.000000\n",
       "Due Date                          0.646715\n",
       "Resolution Action Updated Date    0.131108\n",
       "Community Board                   0.000000\n",
       "Borough                           0.000000\n",
       "X Coordinate (State Plane)        0.116378\n",
       "Y Coordinate (State Plane)        0.116378\n",
       "Park Facility Name                0.000000\n",
       "Park Borough                      0.000000\n",
       "School Name                       0.000000\n",
       "School Number                     0.000189\n",
       "School Region                     0.004907\n",
       "School Code                       0.004907\n",
       "School Phone Number               0.000000\n",
       "School Address                    0.000000\n",
       "School City                       0.000000\n",
       "School State                      0.000000\n",
       "School Zip                        0.000000\n",
       "School Not Found                  0.649011\n",
       "School or Citywide Complaint      1.000000\n",
       "Vehicle Type                      0.999109\n",
       "Taxi Company Borough              0.998947\n",
       "Taxi Pick Up Location             0.990465\n",
       "Bridge Highway Name               0.998334\n",
       "Bridge Highway Direction          0.998334\n",
       "Road Ramp                         0.998379\n",
       "Bridge Highway Segment            0.998028\n",
       "Garage Lot Name                   0.999559\n",
       "Ferry Direction                   0.999784\n",
       "Ferry Terminal Name               0.999370\n",
       "Latitude                          0.116378\n",
       "Longitude                         0.116378\n",
       "Location                          0.116378\n",
       "dtype: float64"
      ]
     },
     "execution_count": 4,
     "metadata": {},
     "output_type": "execute_result"
    }
   ],
   "source": [
    "pd.set_option('display.max_columns', None)\n",
    "# Use comment and uncomment to execute each line\n",
    "df_1.isna()\n",
    "df_1.isnull().values.any()\n",
    "df_1.isnull().sum()\n",
    "df_1.isna().sum()/df_1.shape[0]"
   ]
  },
  {
   "cell_type": "markdown",
   "metadata": {},
   "source": [
    "# 1. Check occurrence of values in a column"
   ]
  },
  {
   "cell_type": "markdown",
   "metadata": {},
   "source": [
    "Method `value_counts()`helps to find how many values occur in a column. It returns a series. \n",
    "\n",
    "First, select a target column, then use `value_counts()`. For example, `df['coulmn'].value_counts()`."
   ]
  },
  {
   "cell_type": "code",
   "execution_count": 5,
   "metadata": {},
   "outputs": [
    {
     "data": {
      "text/plain": [
       "3341    3\n",
       "1986    2\n",
       "303     2\n",
       "3698    2\n",
       "3964    2\n",
       "78      2\n",
       "71      2\n",
       "4638    2\n",
       "397     2\n",
       "6180    2\n",
       "2755    2\n",
       "155     2\n",
       "5119    1\n",
       "662     1\n",
       "157     1\n",
       "3735    1\n",
       "5792    1\n",
       "161     1\n",
       "3746    1\n",
       "2211    1\n",
       "6309    1\n",
       "3739    1\n",
       "1684    1\n",
       "146     1\n",
       "2195    1\n",
       "4738    1\n",
       "119     1\n",
       "5240    1\n",
       "876     1\n",
       "5420    1\n",
       "       ..\n",
       "4177    1\n",
       "2717    1\n",
       "348     1\n",
       "2634    1\n",
       "4652    1\n",
       "6500    1\n",
       "2405    1\n",
       "5980    1\n",
       "5842    1\n",
       "4971    1\n",
       "3948    1\n",
       "4105    1\n",
       "334     1\n",
       "6206    1\n",
       "1857    1\n",
       "4553    1\n",
       "6459    1\n",
       "316     1\n",
       "1853    1\n",
       "318     1\n",
       "6179    1\n",
       "4931    1\n",
       "332     1\n",
       "2011    1\n",
       "4947    1\n",
       "2887    1\n",
       "1864    1\n",
       "2890    1\n",
       "4427    1\n",
       "4098    1\n",
       "Name: Berri 1, Length: 297, dtype: int64"
      ]
     },
     "execution_count": 5,
     "metadata": {},
     "output_type": "execute_result"
    }
   ],
   "source": [
    "# Use comment and uncomment to execute each line\n",
    "df_1['Agency'].value_counts()\n",
    "df_2['Berri 1'].value_counts()"
   ]
  },
  {
   "cell_type": "markdown",
   "metadata": {},
   "source": [
    "# 2. Check unique values in a column"
   ]
  },
  {
   "cell_type": "markdown",
   "metadata": {},
   "source": [
    "If you want to see how many unique values in a column, you can use `.unique()` method.\n",
    "\n",
    "ex) `df['col1'].unique()`\n",
    "\n",
    "If you want to make a list using the result of `unique()`method, you can use `.tolist()` method.\n",
    "\n",
    "ex) `unique_list = df['col1'].unique().tolist()`\n",
    "\n",
    "If you want to check how many unique values in a column, you can combine `len()` also.\n",
    "\n",
    "ex) `num_unique_list = len(df['col1'].unique().tolist()`\n",
    "\n",
    "or you can get the number of unique values using `size` or `shape` attribute because ` df['col1'].unique()` this returns a numpy array.\n",
    "\n",
    "ex) `num_unique_list = df['col1'].unique().size`"
   ]
  },
  {
   "cell_type": "code",
   "execution_count": 72,
   "metadata": {},
   "outputs": [
    {
     "data": {
      "text/plain": [
       "111069"
      ]
     },
     "execution_count": 72,
     "metadata": {},
     "output_type": "execute_result"
    }
   ],
   "source": [
    "# Use comment and uncomment to execute each line\n",
    "# df_1['Agency'].unique()\n",
    "# tmp = df_1['Agency'].unique().tolist()\n",
    "# tmp\n",
    "# num_unique_list = len(df_1['Agency'].unique().tolist())\n",
    "# num_unique_list\n",
    "num_unique_list = df_1['Agency'].unique().size\n",
    "num_unique_list\n",
    "num_unique_list = df_1['Agency'].size\n",
    "num_unique_list\n",
    "# # df_1['Agency'].unique().shape\n",
    "# df_1['Agency'].size"
   ]
  },
  {
   "cell_type": "markdown",
   "metadata": {},
   "source": [
    "It is possible to check the number of unique values in all columns."
   ]
  },
  {
   "cell_type": "code",
   "execution_count": 58,
   "metadata": {},
   "outputs": [
    {
     "data": {
      "text/plain": [
       "Unique Key                        111069\n",
       "Created Date                       57872\n",
       "Closed Date                        35596\n",
       "Agency                                26\n",
       "Agency Name                          135\n",
       "Complaint Type                       165\n",
       "Descriptor                           788\n",
       "Location Type                         90\n",
       "Incident Zip                         441\n",
       "Incident Address                   41189\n",
       "Street Name                         5922\n",
       "Cross Street 1                      5733\n",
       "Cross Street 2                      5757\n",
       "Intersection Street 1               4369\n",
       "Intersection Street 2               4699\n",
       "Address Type                           5\n",
       "City                                 142\n",
       "Landmark                              32\n",
       "Facility Type                          3\n",
       "Status                                 7\n",
       "Due Date                           33860\n",
       "Resolution Action Updated Date     39241\n",
       "Community Board                       77\n",
       "Borough                                6\n",
       "X Coordinate (State Plane)         36877\n",
       "Y Coordinate (State Plane)         40239\n",
       "Park Facility Name                   337\n",
       "Park Borough                           6\n",
       "School Name                          337\n",
       "School Number                        291\n",
       "School Region                         11\n",
       "School Code                           60\n",
       "School Phone Number                   58\n",
       "School Address                       334\n",
       "School City                           32\n",
       "School State                           2\n",
       "School Zip                           130\n",
       "School Not Found                       2\n",
       "School or Citywide Complaint           0\n",
       "Vehicle Type                           3\n",
       "Taxi Company Borough                   5\n",
       "Taxi Pick Up Location                  7\n",
       "Bridge Highway Name                   37\n",
       "Bridge Highway Direction              38\n",
       "Road Ramp                              2\n",
       "Bridge Highway Segment               160\n",
       "Garage Lot Name                       17\n",
       "Ferry Direction                        2\n",
       "Ferry Terminal Name                   39\n",
       "Latitude                           50627\n",
       "Longitude                          50505\n",
       "Location                           50653\n",
       "dtype: int64"
      ]
     },
     "execution_count": 58,
     "metadata": {},
     "output_type": "execute_result"
    }
   ],
   "source": [
    "# Use comment and uncomment to execute each line\n",
    "# df_2.nunique()\n",
    "# df_2.nunique(dropna=False)\n",
    "df_1.nunique()"
   ]
  },
  {
   "cell_type": "markdown",
   "metadata": {},
   "source": [
    "# 3. Basic funtions : sum(), count()"
   ]
  },
  {
   "cell_type": "markdown",
   "metadata": {},
   "source": [
    "## sum()"
   ]
  },
  {
   "cell_type": "markdown",
   "metadata": {},
   "source": [
    "Let's calculate the sum of a column. To do it, we need to find a numerical column first"
   ]
  },
  {
   "cell_type": "code",
   "execution_count": 30,
   "metadata": {},
   "outputs": [
    {
     "name": "stdout",
     "output_type": "stream",
     "text": [
      "<class 'pandas.core.frame.DataFrame'>\n",
      "Index: 310 entries, 01/01/2012 to 05/11/2012\n",
      "Data columns (total 9 columns):\n",
      "Berri 1                                310 non-null int64\n",
      "Brébeuf (données non disponibles)      0 non-null float64\n",
      "Côte-Sainte-Catherine                  310 non-null int64\n",
      "Maisonneuve 1                          310 non-null int64\n",
      "Maisonneuve 2                          310 non-null int64\n",
      "du Parc                                310 non-null int64\n",
      "Pierre-Dupuy                           310 non-null int64\n",
      "Rachel1                                310 non-null int64\n",
      "St-Urbain (données non disponibles)    0 non-null float64\n",
      "dtypes: float64(2), int64(7)\n",
      "memory usage: 34.2+ KB\n"
     ]
    },
    {
     "data": {
      "text/plain": [
       "Date\n",
       "01/01/2012      35\n",
       "02/01/2012      83\n",
       "03/01/2012     135\n",
       "04/01/2012     144\n",
       "05/01/2012     197\n",
       "06/01/2012     146\n",
       "07/01/2012      98\n",
       "08/01/2012      95\n",
       "09/01/2012     244\n",
       "10/01/2012     397\n",
       "11/01/2012     273\n",
       "12/01/2012     157\n",
       "13/01/2012      75\n",
       "14/01/2012      32\n",
       "15/01/2012      54\n",
       "16/01/2012     168\n",
       "17/01/2012     155\n",
       "18/01/2012     139\n",
       "19/01/2012     191\n",
       "20/01/2012     161\n",
       "21/01/2012      53\n",
       "22/01/2012      71\n",
       "23/01/2012     210\n",
       "24/01/2012     299\n",
       "25/01/2012     334\n",
       "26/01/2012     306\n",
       "27/01/2012      91\n",
       "28/01/2012      80\n",
       "29/01/2012      87\n",
       "30/01/2012     219\n",
       "              ... \n",
       "07/10/2012    1580\n",
       "08/10/2012    1854\n",
       "09/10/2012    4787\n",
       "10/10/2012    3115\n",
       "11/10/2012    3746\n",
       "12/10/2012    3169\n",
       "13/10/2012    1783\n",
       "14/10/2012     587\n",
       "15/10/2012    3292\n",
       "16/10/2012    3739\n",
       "17/10/2012    4098\n",
       "18/10/2012    4671\n",
       "19/10/2012    1313\n",
       "20/10/2012    2011\n",
       "21/10/2012    1277\n",
       "22/10/2012    3650\n",
       "23/10/2012    4177\n",
       "24/10/2012    3744\n",
       "25/10/2012    3735\n",
       "26/10/2012    4290\n",
       "27/10/2012    1857\n",
       "28/10/2012    1310\n",
       "29/10/2012    2919\n",
       "30/10/2012    2887\n",
       "31/10/2012    2634\n",
       "01/11/2012    2405\n",
       "02/11/2012    1582\n",
       "03/11/2012     844\n",
       "04/11/2012     966\n",
       "05/11/2012    2247\n",
       "Name: Berri 1, Length: 310, dtype: int64"
      ]
     },
     "execution_count": 30,
     "metadata": {},
     "output_type": "execute_result"
    }
   ],
   "source": [
    "df_2.info()\n",
    "df_2.head()\n",
    "df_2['Berri 1']"
   ]
  },
  {
   "cell_type": "markdown",
   "metadata": {},
   "source": [
    "Let's get the sum of `df_2['Berri 1']` column using `sum()` method."
   ]
  },
  {
   "cell_type": "code",
   "execution_count": 34,
   "metadata": {},
   "outputs": [
    {
     "name": "stdout",
     "output_type": "stream",
     "text": [
      "CPU times: user 343 µs, sys: 23 µs, total: 366 µs\n",
      "Wall time: 367 µs\n"
     ]
    },
    {
     "data": {
      "text/plain": [
       "925365"
      ]
     },
     "execution_count": 34,
     "metadata": {},
     "output_type": "execute_result"
    }
   ],
   "source": [
    "%%time #To check the consumed time\n",
    "df_2['Berri 1'].sum()"
   ]
  },
  {
   "cell_type": "markdown",
   "metadata": {},
   "source": [
    "Let's do more complicated things."
   ]
  },
  {
   "cell_type": "code",
   "execution_count": 38,
   "metadata": {},
   "outputs": [
    {
     "data": {
      "text/html": [
       "<div>\n",
       "<style scoped>\n",
       "    .dataframe tbody tr th:only-of-type {\n",
       "        vertical-align: middle;\n",
       "    }\n",
       "\n",
       "    .dataframe tbody tr th {\n",
       "        vertical-align: top;\n",
       "    }\n",
       "\n",
       "    .dataframe thead th {\n",
       "        text-align: right;\n",
       "    }\n",
       "</style>\n",
       "<table border=\"1\" class=\"dataframe\">\n",
       "  <thead>\n",
       "    <tr style=\"text-align: right;\">\n",
       "      <th></th>\n",
       "      <th>Berri 1</th>\n",
       "      <th>Brébeuf (données non disponibles)</th>\n",
       "      <th>Côte-Sainte-Catherine</th>\n",
       "      <th>Maisonneuve 1</th>\n",
       "      <th>Maisonneuve 2</th>\n",
       "      <th>du Parc</th>\n",
       "      <th>Pierre-Dupuy</th>\n",
       "      <th>Rachel1</th>\n",
       "      <th>St-Urbain (données non disponibles)</th>\n",
       "    </tr>\n",
       "    <tr>\n",
       "      <th>Date</th>\n",
       "      <th></th>\n",
       "      <th></th>\n",
       "      <th></th>\n",
       "      <th></th>\n",
       "      <th></th>\n",
       "      <th></th>\n",
       "      <th></th>\n",
       "      <th></th>\n",
       "      <th></th>\n",
       "    </tr>\n",
       "  </thead>\n",
       "  <tbody>\n",
       "    <tr>\n",
       "      <th>01/01/2012</th>\n",
       "      <td>35</td>\n",
       "      <td>NaN</td>\n",
       "      <td>0</td>\n",
       "      <td>38</td>\n",
       "      <td>51</td>\n",
       "      <td>26</td>\n",
       "      <td>10</td>\n",
       "      <td>16</td>\n",
       "      <td>NaN</td>\n",
       "    </tr>\n",
       "    <tr>\n",
       "      <th>02/01/2012</th>\n",
       "      <td>83</td>\n",
       "      <td>NaN</td>\n",
       "      <td>1</td>\n",
       "      <td>68</td>\n",
       "      <td>153</td>\n",
       "      <td>53</td>\n",
       "      <td>6</td>\n",
       "      <td>43</td>\n",
       "      <td>NaN</td>\n",
       "    </tr>\n",
       "    <tr>\n",
       "      <th>03/01/2012</th>\n",
       "      <td>135</td>\n",
       "      <td>NaN</td>\n",
       "      <td>2</td>\n",
       "      <td>104</td>\n",
       "      <td>248</td>\n",
       "      <td>89</td>\n",
       "      <td>3</td>\n",
       "      <td>58</td>\n",
       "      <td>NaN</td>\n",
       "    </tr>\n",
       "    <tr>\n",
       "      <th>04/01/2012</th>\n",
       "      <td>144</td>\n",
       "      <td>NaN</td>\n",
       "      <td>1</td>\n",
       "      <td>116</td>\n",
       "      <td>318</td>\n",
       "      <td>111</td>\n",
       "      <td>8</td>\n",
       "      <td>61</td>\n",
       "      <td>NaN</td>\n",
       "    </tr>\n",
       "    <tr>\n",
       "      <th>05/01/2012</th>\n",
       "      <td>197</td>\n",
       "      <td>NaN</td>\n",
       "      <td>2</td>\n",
       "      <td>124</td>\n",
       "      <td>330</td>\n",
       "      <td>97</td>\n",
       "      <td>13</td>\n",
       "      <td>95</td>\n",
       "      <td>NaN</td>\n",
       "    </tr>\n",
       "  </tbody>\n",
       "</table>\n",
       "</div>"
      ],
      "text/plain": [
       "            Berri 1  Brébeuf (données non disponibles)  Côte-Sainte-Catherine  \\\n",
       "Date                                                                            \n",
       "01/01/2012       35                                NaN                      0   \n",
       "02/01/2012       83                                NaN                      1   \n",
       "03/01/2012      135                                NaN                      2   \n",
       "04/01/2012      144                                NaN                      1   \n",
       "05/01/2012      197                                NaN                      2   \n",
       "\n",
       "            Maisonneuve 1  Maisonneuve 2  du Parc  Pierre-Dupuy  Rachel1  \\\n",
       "Date                                                                       \n",
       "01/01/2012             38             51       26            10       16   \n",
       "02/01/2012             68            153       53             6       43   \n",
       "03/01/2012            104            248       89             3       58   \n",
       "04/01/2012            116            318      111             8       61   \n",
       "05/01/2012            124            330       97            13       95   \n",
       "\n",
       "            St-Urbain (données non disponibles)  \n",
       "Date                                             \n",
       "01/01/2012                                  NaN  \n",
       "02/01/2012                                  NaN  \n",
       "03/01/2012                                  NaN  \n",
       "04/01/2012                                  NaN  \n",
       "05/01/2012                                  NaN  "
      ]
     },
     "execution_count": 38,
     "metadata": {},
     "output_type": "execute_result"
    }
   ],
   "source": [
    "df_2.head()\n",
    "# column_list = df_2.columns.tolist()\n",
    "# column_list"
   ]
  },
  {
   "cell_type": "code",
   "execution_count": 40,
   "metadata": {},
   "outputs": [
    {
     "data": {
      "text/plain": [
       "array([   0,    1,    2,    3,    4,    6,    5,   10,    8,   13,   60,\n",
       "        179,  145,  146,  244,  149,  287,  856, 1024, 1261, 1558, 1030,\n",
       "       1143,  336,  243,  564,  517,  406,  529,  499,  341,  967, 1078,\n",
       "        933, 1036,  650,  494,  560,  298,  909, 1049, 1483, 1505, 1072,\n",
       "       1210, 1841, 1616, 1751, 2010,  800,  212,  487,  315,  720, 1023,\n",
       "       1069,  743,  628,  765, 1572,  815, 1677, 1618, 1163, 1366, 1525,\n",
       "       2573,  625, 1545, 1227, 1803, 1457, 1223, 2709, 1773, 2178, 2441,\n",
       "       2241, 1454, 1663, 1646,  938, 2650, 2653, 2205, 1622, 1962, 1184,\n",
       "       2722, 2177, 2604,  392, 1897, 1408, 2721, 2724, 2607, 1833, 1672,\n",
       "       1812, 2577, 1556, 2792, 2978, 2469, 1651, 1552, 2703, 2360, 2402,\n",
       "       2195, 1934, 1326, 1152, 1077, 1435, 1322, 2381, 1935, 1359, 1343,\n",
       "       1397, 2634, 2038, 2603, 2095, 1289, 1497, 2330, 2625, 2548, 2371,\n",
       "       2005, 1244, 1060, 2092, 1046, 2589, 2397, 2088, 1419, 1238, 1660,\n",
       "       2318, 2593, 2043, 1948, 1345, 1332, 2285, 2185, 1842, 2361, 1915,\n",
       "       1305,  630, 2277, 2410, 2313, 1802,  934, 1338, 2298, 2322, 1882,\n",
       "       2538, 1777, 1333, 2474, 2508, 2671, 2482, 2394, 1318, 2273, 2794,\n",
       "       3092, 2910, 1868, 1225, 1232, 1532, 2883, 2720, 1192, 1810, 2913,\n",
       "       3124, 3076, 2257, 1100, 1231, 2658, 1277, 2351, 2496, 1821,  656,\n",
       "       1093, 2246, 2236, 1873, 2288, 2134,  755,  359, 1576, 2525, 2377,\n",
       "       2025, 1977,  469,  660,  880, 2210, 1537, 1857, 1460,  802, 1678,\n",
       "       1858, 1964, 2292,  597,  748,  609, 1819, 1997, 1815, 1987,  792,\n",
       "        697, 1458, 1251, 1294, 1208,  737,  380,  446, 1170])"
      ]
     },
     "execution_count": 40,
     "metadata": {},
     "output_type": "execute_result"
    }
   ],
   "source": [
    "df_2[column_list[2]].unique() \n",
    "#I wanted to select 'Côte-Sainte-Catherine' column. Instead of using the name directly, I made a list of the columns names, and index it."
   ]
  },
  {
   "cell_type": "markdown",
   "metadata": {},
   "source": [
    "Ok. There are some values. Let me check it again with `value_counts()`"
   ]
  },
  {
   "cell_type": "code",
   "execution_count": 45,
   "metadata": {},
   "outputs": [
    {
     "data": {
      "text/plain": [
       "0       31\n",
       "1       16\n",
       "2        7\n",
       "3        4\n",
       "4        3\n",
       "5        3\n",
       "815      2\n",
       "1305     2\n",
       "287      2\n",
       "1868     2\n",
       "2722     2\n",
       "1934     2\n",
       "2792     2\n",
       "10       2\n",
       "179      2\n",
       "6        2\n",
       "1525     2\n",
       "1408     2\n",
       "2205     1\n",
       "2210     1\n",
       "1192     1\n",
       "2724     1\n",
       "2721     1\n",
       "1030     1\n",
       "1184     1\n",
       "149      1\n",
       "2177     1\n",
       "1170     1\n",
       "802      1\n",
       "697      1\n",
       "        ..\n",
       "1333     1\n",
       "1072     1\n",
       "469      1\n",
       "2360     1\n",
       "359      1\n",
       "2402     1\n",
       "2913     1\n",
       "2910     1\n",
       "2397     1\n",
       "1882     1\n",
       "856      1\n",
       "1244     1\n",
       "1366     1\n",
       "341      1\n",
       "1873     1\n",
       "336      1\n",
       "1962     1\n",
       "2381     1\n",
       "2394     1\n",
       "2377     1\n",
       "1777     1\n",
       "3076     1\n",
       "2371     1\n",
       "1858     1\n",
       "1345     1\n",
       "1343     1\n",
       "315      1\n",
       "1338     1\n",
       "2361     1\n",
       "2720     1\n",
       "Name: Côte-Sainte-Catherine, Length: 240, dtype: int64"
      ]
     },
     "execution_count": 45,
     "metadata": {},
     "output_type": "execute_result"
    }
   ],
   "source": [
    "df_2[column_list[2]].value_counts()\n",
    "df_2[column_list[2]].value_counts(ascending=False, dropna=False)"
   ]
  },
  {
   "cell_type": "markdown",
   "metadata": {},
   "source": [
    "OK. Now let's do `df_2['Berri 1'].sum()` again with some conditions. Before counting the sum, hold the values that we want first."
   ]
  },
  {
   "cell_type": "code",
   "execution_count": 47,
   "metadata": {},
   "outputs": [
    {
     "data": {
      "text/plain": [
       "Date\n",
       "02/01/2012     83\n",
       "04/01/2012    144\n",
       "08/01/2012     95\n",
       "12/01/2012    157\n",
       "19/01/2012    191\n",
       "24/01/2012    299\n",
       "25/01/2012    334\n",
       "28/01/2012     80\n",
       "29/01/2012     87\n",
       "31/01/2012    186\n",
       "03/02/2012    174\n",
       "06/02/2012    248\n",
       "10/02/2012    303\n",
       "16/02/2012    386\n",
       "18/02/2012    220\n",
       "05/03/2012    155\n",
       "Name: Berri 1, dtype: int64"
      ]
     },
     "execution_count": 47,
     "metadata": {},
     "output_type": "execute_result"
    }
   ],
   "source": [
    "# 1. Select a part of df_2 that df_2[column_list[2]] is equal to 1\n",
    "# 2. From 1, select ['Berri 1'] \n",
    "df_2[df_2[column_list[2]] == 1]['Berri 1'] "
   ]
  },
  {
   "cell_type": "code",
   "execution_count": 48,
   "metadata": {},
   "outputs": [
    {
     "data": {
      "text/plain": [
       "3142"
      ]
     },
     "execution_count": 48,
     "metadata": {},
     "output_type": "execute_result"
    }
   ],
   "source": [
    "df_2[df_2[column_list[2]] == 1]['Berri 1'].sum()"
   ]
  },
  {
   "cell_type": "code",
   "execution_count": 49,
   "metadata": {},
   "outputs": [
    {
     "data": {
      "text/plain": [
       "Berri 1                                297\n",
       "Brébeuf (données non disponibles)        0\n",
       "Côte-Sainte-Catherine                  240\n",
       "Maisonneuve 1                          294\n",
       "Maisonneuve 2                          306\n",
       "du Parc                                295\n",
       "Pierre-Dupuy                           249\n",
       "Rachel1                                261\n",
       "St-Urbain (données non disponibles)      0\n",
       "dtype: int64"
      ]
     },
     "execution_count": 49,
     "metadata": {},
     "output_type": "execute_result"
    }
   ],
   "source": [
    "df_2.nunique()"
   ]
  },
  {
   "cell_type": "code",
   "execution_count": 64,
   "metadata": {},
   "outputs": [
    {
     "data": {
      "text/plain": [
       "310"
      ]
     },
     "execution_count": 64,
     "metadata": {},
     "output_type": "execute_result"
    }
   ],
   "source": [
    "# df_2[column_list[2]].count()\n",
    "df_2[column_list[2]].size"
   ]
  },
  {
   "cell_type": "markdown",
   "metadata": {},
   "source": [
    "## count()"
   ]
  },
  {
   "cell_type": "markdown",
   "metadata": {},
   "source": [
    "This function counts the non-nan values in a column. Let's check."
   ]
  },
  {
   "cell_type": "code",
   "execution_count": 77,
   "metadata": {},
   "outputs": [
    {
     "data": {
      "text/html": [
       "<div>\n",
       "<style scoped>\n",
       "    .dataframe tbody tr th:only-of-type {\n",
       "        vertical-align: middle;\n",
       "    }\n",
       "\n",
       "    .dataframe tbody tr th {\n",
       "        vertical-align: top;\n",
       "    }\n",
       "\n",
       "    .dataframe thead th {\n",
       "        text-align: right;\n",
       "    }\n",
       "</style>\n",
       "<table border=\"1\" class=\"dataframe\">\n",
       "  <thead>\n",
       "    <tr style=\"text-align: right;\">\n",
       "      <th></th>\n",
       "      <th>Unique Key</th>\n",
       "      <th>Created Date</th>\n",
       "      <th>Closed Date</th>\n",
       "      <th>Agency</th>\n",
       "      <th>Agency Name</th>\n",
       "      <th>Complaint Type</th>\n",
       "      <th>Descriptor</th>\n",
       "      <th>Location Type</th>\n",
       "      <th>Incident Zip</th>\n",
       "      <th>Incident Address</th>\n",
       "      <th>Street Name</th>\n",
       "      <th>Cross Street 1</th>\n",
       "      <th>Cross Street 2</th>\n",
       "      <th>Intersection Street 1</th>\n",
       "      <th>Intersection Street 2</th>\n",
       "      <th>Address Type</th>\n",
       "      <th>City</th>\n",
       "      <th>Landmark</th>\n",
       "      <th>Facility Type</th>\n",
       "      <th>Status</th>\n",
       "      <th>Due Date</th>\n",
       "      <th>Resolution Action Updated Date</th>\n",
       "      <th>Community Board</th>\n",
       "      <th>Borough</th>\n",
       "      <th>X Coordinate (State Plane)</th>\n",
       "      <th>Y Coordinate (State Plane)</th>\n",
       "      <th>Park Facility Name</th>\n",
       "      <th>Park Borough</th>\n",
       "      <th>School Name</th>\n",
       "      <th>School Number</th>\n",
       "      <th>School Region</th>\n",
       "      <th>School Code</th>\n",
       "      <th>School Phone Number</th>\n",
       "      <th>School Address</th>\n",
       "      <th>School City</th>\n",
       "      <th>School State</th>\n",
       "      <th>School Zip</th>\n",
       "      <th>School Not Found</th>\n",
       "      <th>School or Citywide Complaint</th>\n",
       "      <th>Vehicle Type</th>\n",
       "      <th>Taxi Company Borough</th>\n",
       "      <th>Taxi Pick Up Location</th>\n",
       "      <th>Bridge Highway Name</th>\n",
       "      <th>Bridge Highway Direction</th>\n",
       "      <th>Road Ramp</th>\n",
       "      <th>Bridge Highway Segment</th>\n",
       "      <th>Garage Lot Name</th>\n",
       "      <th>Ferry Direction</th>\n",
       "      <th>Ferry Terminal Name</th>\n",
       "      <th>Latitude</th>\n",
       "      <th>Longitude</th>\n",
       "      <th>Location</th>\n",
       "    </tr>\n",
       "  </thead>\n",
       "  <tbody>\n",
       "    <tr>\n",
       "      <th>0</th>\n",
       "      <td>26589651</td>\n",
       "      <td>10/31/2013 02:08:41 AM</td>\n",
       "      <td>NaN</td>\n",
       "      <td>NYPD</td>\n",
       "      <td>New York City Police Department</td>\n",
       "      <td>Noise - Street/Sidewalk</td>\n",
       "      <td>Loud Talking</td>\n",
       "      <td>Street/Sidewalk</td>\n",
       "      <td>11432</td>\n",
       "      <td>90-03 169 STREET</td>\n",
       "      <td>169 STREET</td>\n",
       "      <td>90 AVENUE</td>\n",
       "      <td>91 AVENUE</td>\n",
       "      <td>NaN</td>\n",
       "      <td>NaN</td>\n",
       "      <td>ADDRESS</td>\n",
       "      <td>JAMAICA</td>\n",
       "      <td>NaN</td>\n",
       "      <td>Precinct</td>\n",
       "      <td>Assigned</td>\n",
       "      <td>10/31/2013 10:08:41 AM</td>\n",
       "      <td>10/31/2013 02:35:17 AM</td>\n",
       "      <td>12 QUEENS</td>\n",
       "      <td>QUEENS</td>\n",
       "      <td>1042027.0</td>\n",
       "      <td>197389.0</td>\n",
       "      <td>Unspecified</td>\n",
       "      <td>QUEENS</td>\n",
       "      <td>Unspecified</td>\n",
       "      <td>Unspecified</td>\n",
       "      <td>Unspecified</td>\n",
       "      <td>Unspecified</td>\n",
       "      <td>Unspecified</td>\n",
       "      <td>Unspecified</td>\n",
       "      <td>Unspecified</td>\n",
       "      <td>Unspecified</td>\n",
       "      <td>Unspecified</td>\n",
       "      <td>N</td>\n",
       "      <td>NaN</td>\n",
       "      <td>NaN</td>\n",
       "      <td>NaN</td>\n",
       "      <td>NaN</td>\n",
       "      <td>NaN</td>\n",
       "      <td>NaN</td>\n",
       "      <td>NaN</td>\n",
       "      <td>NaN</td>\n",
       "      <td>NaN</td>\n",
       "      <td>NaN</td>\n",
       "      <td>NaN</td>\n",
       "      <td>40.708275</td>\n",
       "      <td>-73.791604</td>\n",
       "      <td>(40.70827532593202, -73.79160395779721)</td>\n",
       "    </tr>\n",
       "    <tr>\n",
       "      <th>1</th>\n",
       "      <td>26593698</td>\n",
       "      <td>10/31/2013 02:01:04 AM</td>\n",
       "      <td>NaN</td>\n",
       "      <td>NYPD</td>\n",
       "      <td>New York City Police Department</td>\n",
       "      <td>Illegal Parking</td>\n",
       "      <td>Commercial Overnight Parking</td>\n",
       "      <td>Street/Sidewalk</td>\n",
       "      <td>11378</td>\n",
       "      <td>58 AVENUE</td>\n",
       "      <td>58 AVENUE</td>\n",
       "      <td>58 PLACE</td>\n",
       "      <td>59 STREET</td>\n",
       "      <td>NaN</td>\n",
       "      <td>NaN</td>\n",
       "      <td>BLOCKFACE</td>\n",
       "      <td>MASPETH</td>\n",
       "      <td>NaN</td>\n",
       "      <td>Precinct</td>\n",
       "      <td>Open</td>\n",
       "      <td>10/31/2013 10:01:04 AM</td>\n",
       "      <td>NaN</td>\n",
       "      <td>05 QUEENS</td>\n",
       "      <td>QUEENS</td>\n",
       "      <td>1009349.0</td>\n",
       "      <td>201984.0</td>\n",
       "      <td>Unspecified</td>\n",
       "      <td>QUEENS</td>\n",
       "      <td>Unspecified</td>\n",
       "      <td>Unspecified</td>\n",
       "      <td>Unspecified</td>\n",
       "      <td>Unspecified</td>\n",
       "      <td>Unspecified</td>\n",
       "      <td>Unspecified</td>\n",
       "      <td>Unspecified</td>\n",
       "      <td>Unspecified</td>\n",
       "      <td>Unspecified</td>\n",
       "      <td>N</td>\n",
       "      <td>NaN</td>\n",
       "      <td>NaN</td>\n",
       "      <td>NaN</td>\n",
       "      <td>NaN</td>\n",
       "      <td>NaN</td>\n",
       "      <td>NaN</td>\n",
       "      <td>NaN</td>\n",
       "      <td>NaN</td>\n",
       "      <td>NaN</td>\n",
       "      <td>NaN</td>\n",
       "      <td>NaN</td>\n",
       "      <td>40.721041</td>\n",
       "      <td>-73.909453</td>\n",
       "      <td>(40.721040535628305, -73.90945306791765)</td>\n",
       "    </tr>\n",
       "  </tbody>\n",
       "</table>\n",
       "</div>"
      ],
      "text/plain": [
       "   Unique Key            Created Date Closed Date Agency  \\\n",
       "0    26589651  10/31/2013 02:08:41 AM         NaN   NYPD   \n",
       "1    26593698  10/31/2013 02:01:04 AM         NaN   NYPD   \n",
       "\n",
       "                       Agency Name           Complaint Type  \\\n",
       "0  New York City Police Department  Noise - Street/Sidewalk   \n",
       "1  New York City Police Department          Illegal Parking   \n",
       "\n",
       "                     Descriptor    Location Type Incident Zip  \\\n",
       "0                  Loud Talking  Street/Sidewalk        11432   \n",
       "1  Commercial Overnight Parking  Street/Sidewalk        11378   \n",
       "\n",
       "   Incident Address Street Name Cross Street 1 Cross Street 2  \\\n",
       "0  90-03 169 STREET  169 STREET      90 AVENUE      91 AVENUE   \n",
       "1         58 AVENUE   58 AVENUE       58 PLACE      59 STREET   \n",
       "\n",
       "  Intersection Street 1 Intersection Street 2 Address Type     City Landmark  \\\n",
       "0                   NaN                   NaN      ADDRESS  JAMAICA      NaN   \n",
       "1                   NaN                   NaN    BLOCKFACE  MASPETH      NaN   \n",
       "\n",
       "  Facility Type    Status                Due Date  \\\n",
       "0      Precinct  Assigned  10/31/2013 10:08:41 AM   \n",
       "1      Precinct      Open  10/31/2013 10:01:04 AM   \n",
       "\n",
       "  Resolution Action Updated Date Community Board Borough  \\\n",
       "0         10/31/2013 02:35:17 AM       12 QUEENS  QUEENS   \n",
       "1                            NaN       05 QUEENS  QUEENS   \n",
       "\n",
       "   X Coordinate (State Plane)  Y Coordinate (State Plane) Park Facility Name  \\\n",
       "0                   1042027.0                    197389.0        Unspecified   \n",
       "1                   1009349.0                    201984.0        Unspecified   \n",
       "\n",
       "  Park Borough  School Name School Number School Region  School Code  \\\n",
       "0       QUEENS  Unspecified   Unspecified   Unspecified  Unspecified   \n",
       "1       QUEENS  Unspecified   Unspecified   Unspecified  Unspecified   \n",
       "\n",
       "  School Phone Number School Address  School City School State   School Zip  \\\n",
       "0         Unspecified    Unspecified  Unspecified  Unspecified  Unspecified   \n",
       "1         Unspecified    Unspecified  Unspecified  Unspecified  Unspecified   \n",
       "\n",
       "  School Not Found  School or Citywide Complaint Vehicle Type  \\\n",
       "0                N                           NaN          NaN   \n",
       "1                N                           NaN          NaN   \n",
       "\n",
       "  Taxi Company Borough Taxi Pick Up Location Bridge Highway Name  \\\n",
       "0                  NaN                   NaN                 NaN   \n",
       "1                  NaN                   NaN                 NaN   \n",
       "\n",
       "  Bridge Highway Direction Road Ramp Bridge Highway Segment Garage Lot Name  \\\n",
       "0                      NaN       NaN                    NaN             NaN   \n",
       "1                      NaN       NaN                    NaN             NaN   \n",
       "\n",
       "  Ferry Direction Ferry Terminal Name   Latitude  Longitude  \\\n",
       "0             NaN                 NaN  40.708275 -73.791604   \n",
       "1             NaN                 NaN  40.721041 -73.909453   \n",
       "\n",
       "                                   Location  \n",
       "0   (40.70827532593202, -73.79160395779721)  \n",
       "1  (40.721040535628305, -73.90945306791765)  "
      ]
     },
     "execution_count": 77,
     "metadata": {},
     "output_type": "execute_result"
    }
   ],
   "source": [
    "df_1.shape\n",
    "df_1.head(n=2)"
   ]
  },
  {
   "cell_type": "code",
   "execution_count": 80,
   "metadata": {},
   "outputs": [
    {
     "data": {
      "text/plain": [
       "111069"
      ]
     },
     "execution_count": 80,
     "metadata": {},
     "output_type": "execute_result"
    }
   ],
   "source": [
    "# Use comment and uncomment to execute each line\n",
    "df_1['Agency Name'].size\n",
    "df_1['Agency Name'].count()"
   ]
  },
  {
   "cell_type": "markdown",
   "metadata": {},
   "source": [
    "`df['col1'].size` returns an array showing that how many cells in a column.\n",
    "\n",
    "`df['col1'].count()` returns an array showing that how non-nan values in a column."
   ]
  },
  {
   "cell_type": "code",
   "execution_count": 87,
   "metadata": {},
   "outputs": [
    {
     "data": {
      "text/plain": [
       "60270"
      ]
     },
     "execution_count": 87,
     "metadata": {},
     "output_type": "execute_result"
    }
   ],
   "source": [
    "# Use comment and uncomment to execute each line\n",
    "df_1['Closed Date'].size\n",
    "df_1['Closed Date'].count()\n",
    "df_1['Incident Zip'].size\n",
    "df_1['Incident Zip'].count()"
   ]
  },
  {
   "cell_type": "markdown",
   "metadata": {},
   "source": [
    "There is a useful method `describe()`. But we can statistical values using `min()`, `max()`, `median()`, `quantile()`, `mean()`, `var()`, `std()`"
   ]
  },
  {
   "cell_type": "code",
   "execution_count": 91,
   "metadata": {},
   "outputs": [
    {
     "data": {
      "text/plain": [
       "dtype('O')"
      ]
     },
     "execution_count": 91,
     "metadata": {},
     "output_type": "execute_result"
    }
   ],
   "source": [
    "# Use comment and uncomment to execute each line\n",
    "df_1['Incident Zip'].dtype"
   ]
  },
  {
   "cell_type": "markdown",
   "metadata": {},
   "source": [
    "I cannot use df_1['Incident Zip'] because it is dtype('O'). Let's find a column having numerical values"
   ]
  },
  {
   "cell_type": "code",
   "execution_count": 92,
   "metadata": {},
   "outputs": [
    {
     "name": "stdout",
     "output_type": "stream",
     "text": [
      "<class 'pandas.core.frame.DataFrame'>\n",
      "RangeIndex: 111069 entries, 0 to 111068\n",
      "Data columns (total 52 columns):\n",
      "Unique Key                        111069 non-null int64\n",
      "Created Date                      111069 non-null object\n",
      "Closed Date                       60270 non-null object\n",
      "Agency                            111069 non-null object\n",
      "Agency Name                       111069 non-null object\n",
      "Complaint Type                    111069 non-null object\n",
      "Descriptor                        110613 non-null object\n",
      "Location Type                     79022 non-null object\n",
      "Incident Zip                      98807 non-null object\n",
      "Incident Address                  84441 non-null object\n",
      "Street Name                       84432 non-null object\n",
      "Cross Street 1                    84728 non-null object\n",
      "Cross Street 2                    84005 non-null object\n",
      "Intersection Street 1             19364 non-null object\n",
      "Intersection Street 2             19366 non-null object\n",
      "Address Type                      102247 non-null object\n",
      "City                              98854 non-null object\n",
      "Landmark                          95 non-null object\n",
      "Facility Type                     19104 non-null object\n",
      "Status                            111069 non-null object\n",
      "Due Date                          39239 non-null object\n",
      "Resolution Action Updated Date    96507 non-null object\n",
      "Community Board                   111069 non-null object\n",
      "Borough                           111069 non-null object\n",
      "X Coordinate (State Plane)        98143 non-null float64\n",
      "Y Coordinate (State Plane)        98143 non-null float64\n",
      "Park Facility Name                111069 non-null object\n",
      "Park Borough                      111069 non-null object\n",
      "School Name                       111069 non-null object\n",
      "School Number                     111048 non-null object\n",
      "School Region                     110524 non-null object\n",
      "School Code                       110524 non-null object\n",
      "School Phone Number               111069 non-null object\n",
      "School Address                    111069 non-null object\n",
      "School City                       111069 non-null object\n",
      "School State                      111069 non-null object\n",
      "School Zip                        111069 non-null object\n",
      "School Not Found                  38984 non-null object\n",
      "School or Citywide Complaint      0 non-null float64\n",
      "Vehicle Type                      99 non-null object\n",
      "Taxi Company Borough              117 non-null object\n",
      "Taxi Pick Up Location             1059 non-null object\n",
      "Bridge Highway Name               185 non-null object\n",
      "Bridge Highway Direction          185 non-null object\n",
      "Road Ramp                         180 non-null object\n",
      "Bridge Highway Segment            219 non-null object\n",
      "Garage Lot Name                   49 non-null object\n",
      "Ferry Direction                   24 non-null object\n",
      "Ferry Terminal Name               70 non-null object\n",
      "Latitude                          98143 non-null float64\n",
      "Longitude                         98143 non-null float64\n",
      "Location                          98143 non-null object\n",
      "dtypes: float64(5), int64(1), object(46)\n",
      "memory usage: 44.1+ MB\n"
     ]
    }
   ],
   "source": [
    "df_1.info()"
   ]
  },
  {
   "cell_type": "code",
   "execution_count": 99,
   "metadata": {},
   "outputs": [
    {
     "name": "stdout",
     "output_type": "stream",
     "text": [
      "min 26425880\n",
      "max 26596133\n",
      "median 26514717.0\n",
      "mean 26515650.488453124\n",
      "quantile_25 26474334.0\n",
      "quantile_80 26564465.8\n",
      "var 2203887381.2878094\n",
      "std 46945.57893228935\n"
     ]
    }
   ],
   "source": [
    "value_min = df_1['Unique Key'].min()\n",
    "value_max = df_1['Unique Key'].max()\n",
    "value_median = df_1['Unique Key'].median()\n",
    "value_mean = df_1['Unique Key'].mean()\n",
    "value_quantile_25 = df_1['Unique Key'].quantile(.25)\n",
    "value_quantile_80 = df_1['Unique Key'].quantile(.80)\n",
    "value_var = df_1['Unique Key'].var()\n",
    "value_std = df_1['Unique Key'].std()\n",
    "\n",
    "print(\"min\", value_min)\n",
    "print(\"max\", value_max)\n",
    "print(\"median\", value_median)\n",
    "print(\"mean\", value_mean)\n",
    "print(\"quantile_25\", value_quantile_25)\n",
    "print(\"quantile_80\", value_quantile_80)\n",
    "print(\"var\", value_var)\n",
    "print(\"std\", value_std)"
   ]
  },
  {
   "cell_type": "code",
   "execution_count": null,
   "metadata": {},
   "outputs": [],
   "source": []
  }
 ],
 "metadata": {
  "kernelspec": {
   "display_name": "Python 3",
   "language": "python",
   "name": "python3"
  },
  "language_info": {
   "codemirror_mode": {
    "name": "ipython",
    "version": 3
   },
   "file_extension": ".py",
   "mimetype": "text/x-python",
   "name": "python",
   "nbconvert_exporter": "python",
   "pygments_lexer": "ipython3",
   "version": "3.6.8"
  }
 },
 "nbformat": 4,
 "nbformat_minor": 2
}
